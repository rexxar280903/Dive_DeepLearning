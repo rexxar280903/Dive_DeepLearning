{
 "cells": [
  {
   "cell_type": "markdown",
   "metadata": {},
   "source": [
    "# Dive Into Deep Learning\n",
    "\n",
    "Aston Zhang Zack C. Lipton  Mu Li   Alex J. Smola\n",
    "\n",
    "-[Book](https://d2l.ai/)  \n",
    "-[Docs Translate](https://docs.google.com/document/d/1nZeWhl274X6buXRIXEwzErHTQGLw2KacHewnDgG6M6k/edit?pli=1&tab=t.0)\n"
   ]
  },
  {
   "cell_type": "code",
   "execution_count": null,
   "metadata": {},
   "outputs": [],
   "source": []
  }
 ],
 "metadata": {
  "language_info": {
   "name": "python"
  }
 },
 "nbformat": 4,
 "nbformat_minor": 2
}
